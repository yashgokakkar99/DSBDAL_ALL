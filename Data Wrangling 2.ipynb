{
 "cells": [
  {
   "cell_type": "code",
   "execution_count": 1,
   "id": "2d9fc4cd",
   "metadata": {},
   "outputs": [],
   "source": [
    "import pandas as pd\n",
    "import numpy as np\n",
    "import seaborn as sns\n",
    "import matplotlib.pyplot as plt"
   ]
  },
  {
   "cell_type": "code",
   "execution_count": 2,
   "id": "d81e0393",
   "metadata": {},
   "outputs": [],
   "source": [
    "df = pd.read_csv('SPPU_SAMPLE_DATA.csv')"
   ]
  },
  {
   "cell_type": "code",
   "execution_count": 3,
   "id": "e08e8e18",
   "metadata": {},
   "outputs": [
    {
     "data": {
      "text/html": [
       "<div>\n",
       "<style scoped>\n",
       "    .dataframe tbody tr th:only-of-type {\n",
       "        vertical-align: middle;\n",
       "    }\n",
       "\n",
       "    .dataframe tbody tr th {\n",
       "        vertical-align: top;\n",
       "    }\n",
       "\n",
       "    .dataframe thead th {\n",
       "        text-align: right;\n",
       "    }\n",
       "</style>\n",
       "<table border=\"1\" class=\"dataframe\">\n",
       "  <thead>\n",
       "    <tr style=\"text-align: right;\">\n",
       "      <th></th>\n",
       "      <th>Unnamed: 0</th>\n",
       "      <th>Roll Number</th>\n",
       "      <th>First Name</th>\n",
       "      <th>Middle Initial</th>\n",
       "      <th>Last Name</th>\n",
       "      <th>Gender</th>\n",
       "      <th>No of subjects</th>\n",
       "      <th>CC</th>\n",
       "      <th>WT</th>\n",
       "      <th>AI</th>\n",
       "      <th>DSBDA</th>\n",
       "      <th>CGPA</th>\n",
       "      <th>Attendance</th>\n",
       "    </tr>\n",
       "  </thead>\n",
       "  <tbody>\n",
       "    <tr>\n",
       "      <th>0</th>\n",
       "      <td>0</td>\n",
       "      <td>31401.0</td>\n",
       "      <td>Lois</td>\n",
       "      <td>H</td>\n",
       "      <td>Walker</td>\n",
       "      <td>F</td>\n",
       "      <td>4</td>\n",
       "      <td>76</td>\n",
       "      <td>54</td>\n",
       "      <td>56</td>\n",
       "      <td>64</td>\n",
       "      <td>62.50</td>\n",
       "      <td>89.0</td>\n",
       "    </tr>\n",
       "    <tr>\n",
       "      <th>1</th>\n",
       "      <td>1</td>\n",
       "      <td>31402.0</td>\n",
       "      <td>Brenda</td>\n",
       "      <td>S</td>\n",
       "      <td>Robinson</td>\n",
       "      <td>F</td>\n",
       "      <td>4</td>\n",
       "      <td>64</td>\n",
       "      <td>41</td>\n",
       "      <td>97</td>\n",
       "      <td>51</td>\n",
       "      <td>63.25</td>\n",
       "      <td>95.0</td>\n",
       "    </tr>\n",
       "    <tr>\n",
       "      <th>2</th>\n",
       "      <td>2</td>\n",
       "      <td>31403.0</td>\n",
       "      <td>Joe</td>\n",
       "      <td>W</td>\n",
       "      <td>Robinson</td>\n",
       "      <td>M</td>\n",
       "      <td>4</td>\n",
       "      <td>81</td>\n",
       "      <td>46</td>\n",
       "      <td>56</td>\n",
       "      <td>64</td>\n",
       "      <td>61.75</td>\n",
       "      <td>70.0</td>\n",
       "    </tr>\n",
       "    <tr>\n",
       "      <th>3</th>\n",
       "      <td>3</td>\n",
       "      <td>31404.0</td>\n",
       "      <td>Diane</td>\n",
       "      <td>I</td>\n",
       "      <td>Evans</td>\n",
       "      <td>F</td>\n",
       "      <td>4</td>\n",
       "      <td>48</td>\n",
       "      <td>60</td>\n",
       "      <td>60</td>\n",
       "      <td>44</td>\n",
       "      <td>53.00</td>\n",
       "      <td>61.0</td>\n",
       "    </tr>\n",
       "    <tr>\n",
       "      <th>4</th>\n",
       "      <td>4</td>\n",
       "      <td>NaN</td>\n",
       "      <td>Benjamin</td>\n",
       "      <td>R</td>\n",
       "      <td>Russell</td>\n",
       "      <td>M</td>\n",
       "      <td>4</td>\n",
       "      <td>55</td>\n",
       "      <td>58</td>\n",
       "      <td>78</td>\n",
       "      <td>47</td>\n",
       "      <td>59.50</td>\n",
       "      <td>64.0</td>\n",
       "    </tr>\n",
       "  </tbody>\n",
       "</table>\n",
       "</div>"
      ],
      "text/plain": [
       "   Unnamed: 0  Roll Number First Name Middle Initial Last Name Gender   \n",
       "0           0      31401.0       Lois              H    Walker      F  \\\n",
       "1           1      31402.0     Brenda              S  Robinson      F   \n",
       "2           2      31403.0        Joe              W  Robinson      M   \n",
       "3           3      31404.0      Diane              I     Evans      F   \n",
       "4           4          NaN   Benjamin              R   Russell      M   \n",
       "\n",
       "   No of subjects  CC  WT  AI  DSBDA   CGPA  Attendance  \n",
       "0               4  76  54  56     64  62.50        89.0  \n",
       "1               4  64  41  97     51  63.25        95.0  \n",
       "2               4  81  46  56     64  61.75        70.0  \n",
       "3               4  48  60  60     44  53.00        61.0  \n",
       "4               4  55  58  78     47  59.50        64.0  "
      ]
     },
     "execution_count": 3,
     "metadata": {},
     "output_type": "execute_result"
    }
   ],
   "source": [
    "df.head()"
   ]
  },
  {
   "cell_type": "code",
   "execution_count": 4,
   "id": "775b790e",
   "metadata": {},
   "outputs": [
    {
     "data": {
      "text/plain": [
       "Unnamed: 0        0\n",
       "Roll Number       1\n",
       "First Name        0\n",
       "Middle Initial    0\n",
       "Last Name         0\n",
       "Gender            0\n",
       "No of subjects    0\n",
       "CC                0\n",
       "WT                0\n",
       "AI                0\n",
       "DSBDA             0\n",
       "CGPA              0\n",
       "Attendance        2\n",
       "dtype: int64"
      ]
     },
     "execution_count": 4,
     "metadata": {},
     "output_type": "execute_result"
    }
   ],
   "source": [
    "df.isnull().sum()"
   ]
  },
  {
   "cell_type": "code",
   "execution_count": 6,
   "id": "70b173f9",
   "metadata": {},
   "outputs": [],
   "source": [
    "attendance_mean = df['Attendance'] = df['Attendance'].mean()"
   ]
  },
  {
   "cell_type": "code",
   "execution_count": 7,
   "id": "89352bc6",
   "metadata": {},
   "outputs": [],
   "source": [
    "df['Attendance'].replace(np.NaN, attendance_mean, inplace=True)"
   ]
  },
  {
   "cell_type": "code",
   "execution_count": 8,
   "id": "6e2e8d06",
   "metadata": {},
   "outputs": [
    {
     "data": {
      "text/html": [
       "<div>\n",
       "<style scoped>\n",
       "    .dataframe tbody tr th:only-of-type {\n",
       "        vertical-align: middle;\n",
       "    }\n",
       "\n",
       "    .dataframe tbody tr th {\n",
       "        vertical-align: top;\n",
       "    }\n",
       "\n",
       "    .dataframe thead th {\n",
       "        text-align: right;\n",
       "    }\n",
       "</style>\n",
       "<table border=\"1\" class=\"dataframe\">\n",
       "  <thead>\n",
       "    <tr style=\"text-align: right;\">\n",
       "      <th></th>\n",
       "      <th>Unnamed: 0</th>\n",
       "      <th>Roll Number</th>\n",
       "      <th>First Name</th>\n",
       "      <th>Middle Initial</th>\n",
       "      <th>Last Name</th>\n",
       "      <th>Gender</th>\n",
       "      <th>No of subjects</th>\n",
       "      <th>CC</th>\n",
       "      <th>WT</th>\n",
       "      <th>AI</th>\n",
       "      <th>DSBDA</th>\n",
       "      <th>CGPA</th>\n",
       "      <th>Attendance</th>\n",
       "    </tr>\n",
       "  </thead>\n",
       "  <tbody>\n",
       "    <tr>\n",
       "      <th>0</th>\n",
       "      <td>0</td>\n",
       "      <td>31401.0</td>\n",
       "      <td>Lois</td>\n",
       "      <td>H</td>\n",
       "      <td>Walker</td>\n",
       "      <td>F</td>\n",
       "      <td>4</td>\n",
       "      <td>76</td>\n",
       "      <td>54</td>\n",
       "      <td>56</td>\n",
       "      <td>64</td>\n",
       "      <td>62.50</td>\n",
       "      <td>76.375</td>\n",
       "    </tr>\n",
       "    <tr>\n",
       "      <th>1</th>\n",
       "      <td>1</td>\n",
       "      <td>31402.0</td>\n",
       "      <td>Brenda</td>\n",
       "      <td>S</td>\n",
       "      <td>Robinson</td>\n",
       "      <td>F</td>\n",
       "      <td>4</td>\n",
       "      <td>64</td>\n",
       "      <td>41</td>\n",
       "      <td>97</td>\n",
       "      <td>51</td>\n",
       "      <td>63.25</td>\n",
       "      <td>76.375</td>\n",
       "    </tr>\n",
       "    <tr>\n",
       "      <th>2</th>\n",
       "      <td>2</td>\n",
       "      <td>31403.0</td>\n",
       "      <td>Joe</td>\n",
       "      <td>W</td>\n",
       "      <td>Robinson</td>\n",
       "      <td>M</td>\n",
       "      <td>4</td>\n",
       "      <td>81</td>\n",
       "      <td>46</td>\n",
       "      <td>56</td>\n",
       "      <td>64</td>\n",
       "      <td>61.75</td>\n",
       "      <td>76.375</td>\n",
       "    </tr>\n",
       "    <tr>\n",
       "      <th>3</th>\n",
       "      <td>3</td>\n",
       "      <td>31404.0</td>\n",
       "      <td>Diane</td>\n",
       "      <td>I</td>\n",
       "      <td>Evans</td>\n",
       "      <td>F</td>\n",
       "      <td>4</td>\n",
       "      <td>48</td>\n",
       "      <td>60</td>\n",
       "      <td>60</td>\n",
       "      <td>44</td>\n",
       "      <td>53.00</td>\n",
       "      <td>76.375</td>\n",
       "    </tr>\n",
       "    <tr>\n",
       "      <th>4</th>\n",
       "      <td>4</td>\n",
       "      <td>NaN</td>\n",
       "      <td>Benjamin</td>\n",
       "      <td>R</td>\n",
       "      <td>Russell</td>\n",
       "      <td>M</td>\n",
       "      <td>4</td>\n",
       "      <td>55</td>\n",
       "      <td>58</td>\n",
       "      <td>78</td>\n",
       "      <td>47</td>\n",
       "      <td>59.50</td>\n",
       "      <td>76.375</td>\n",
       "    </tr>\n",
       "  </tbody>\n",
       "</table>\n",
       "</div>"
      ],
      "text/plain": [
       "   Unnamed: 0  Roll Number First Name Middle Initial Last Name Gender   \n",
       "0           0      31401.0       Lois              H    Walker      F  \\\n",
       "1           1      31402.0     Brenda              S  Robinson      F   \n",
       "2           2      31403.0        Joe              W  Robinson      M   \n",
       "3           3      31404.0      Diane              I     Evans      F   \n",
       "4           4          NaN   Benjamin              R   Russell      M   \n",
       "\n",
       "   No of subjects  CC  WT  AI  DSBDA   CGPA  Attendance  \n",
       "0               4  76  54  56     64  62.50      76.375  \n",
       "1               4  64  41  97     51  63.25      76.375  \n",
       "2               4  81  46  56     64  61.75      76.375  \n",
       "3               4  48  60  60     44  53.00      76.375  \n",
       "4               4  55  58  78     47  59.50      76.375  "
      ]
     },
     "execution_count": 8,
     "metadata": {},
     "output_type": "execute_result"
    }
   ],
   "source": [
    "df.head()"
   ]
  },
  {
   "cell_type": "code",
   "execution_count": 9,
   "id": "f73fd703",
   "metadata": {},
   "outputs": [
    {
     "data": {
      "text/plain": [
       "76.375"
      ]
     },
     "execution_count": 9,
     "metadata": {},
     "output_type": "execute_result"
    }
   ],
   "source": [
    "attendance_mean"
   ]
  },
  {
   "cell_type": "code",
   "execution_count": 10,
   "id": "b3cda2ba",
   "metadata": {},
   "outputs": [
    {
     "data": {
      "text/plain": [
       "Unnamed: 0        0\n",
       "Roll Number       1\n",
       "First Name        0\n",
       "Middle Initial    0\n",
       "Last Name         0\n",
       "Gender            0\n",
       "No of subjects    0\n",
       "CC                0\n",
       "WT                0\n",
       "AI                0\n",
       "DSBDA             0\n",
       "CGPA              0\n",
       "Attendance        0\n",
       "dtype: int64"
      ]
     },
     "execution_count": 10,
     "metadata": {},
     "output_type": "execute_result"
    }
   ],
   "source": [
    "df.isnull().sum()"
   ]
  },
  {
   "cell_type": "code",
   "execution_count": 12,
   "id": "317b858d",
   "metadata": {},
   "outputs": [],
   "source": [
    "df.dropna(subset = 'Roll Number', inplace=True)"
   ]
  },
  {
   "cell_type": "code",
   "execution_count": 13,
   "id": "e37df67c",
   "metadata": {},
   "outputs": [
    {
     "data": {
      "text/plain": [
       "Unnamed: 0        0\n",
       "Roll Number       0\n",
       "First Name        0\n",
       "Middle Initial    0\n",
       "Last Name         0\n",
       "Gender            0\n",
       "No of subjects    0\n",
       "CC                0\n",
       "WT                0\n",
       "AI                0\n",
       "DSBDA             0\n",
       "CGPA              0\n",
       "Attendance        0\n",
       "dtype: int64"
      ]
     },
     "execution_count": 13,
     "metadata": {},
     "output_type": "execute_result"
    }
   ],
   "source": [
    "df.isnull().sum()"
   ]
  },
  {
   "cell_type": "code",
   "execution_count": 14,
   "id": "3cab7b7c",
   "metadata": {},
   "outputs": [
    {
     "data": {
      "text/plain": [
       "(9, 13)"
      ]
     },
     "execution_count": 14,
     "metadata": {},
     "output_type": "execute_result"
    }
   ],
   "source": [
    "df.shape"
   ]
  },
  {
   "cell_type": "code",
   "execution_count": 15,
   "id": "948f7d2c",
   "metadata": {},
   "outputs": [
    {
     "data": {
      "text/plain": [
       "Unnamed: 0          int64\n",
       "Roll Number       float64\n",
       "First Name         object\n",
       "Middle Initial     object\n",
       "Last Name          object\n",
       "Gender             object\n",
       "No of subjects      int64\n",
       "CC                  int64\n",
       "WT                  int64\n",
       "AI                  int64\n",
       "DSBDA               int64\n",
       "CGPA              float64\n",
       "Attendance        float64\n",
       "dtype: object"
      ]
     },
     "execution_count": 15,
     "metadata": {},
     "output_type": "execute_result"
    }
   ],
   "source": [
    "df.dtypes"
   ]
  },
  {
   "cell_type": "code",
   "execution_count": 16,
   "id": "41ae5a6e",
   "metadata": {},
   "outputs": [
    {
     "name": "stdout",
     "output_type": "stream",
     "text": [
      "<class 'pandas.core.frame.DataFrame'>\n",
      "Index: 9 entries, 0 to 9\n",
      "Data columns (total 13 columns):\n",
      " #   Column          Non-Null Count  Dtype  \n",
      "---  ------          --------------  -----  \n",
      " 0   Unnamed: 0      9 non-null      int64  \n",
      " 1   Roll Number     9 non-null      float64\n",
      " 2   First Name      9 non-null      object \n",
      " 3   Middle Initial  9 non-null      object \n",
      " 4   Last Name       9 non-null      object \n",
      " 5   Gender          9 non-null      object \n",
      " 6   No of subjects  9 non-null      int64  \n",
      " 7   CC              9 non-null      int64  \n",
      " 8   WT              9 non-null      int64  \n",
      " 9   AI              9 non-null      int64  \n",
      " 10  DSBDA           9 non-null      int64  \n",
      " 11  CGPA            9 non-null      float64\n",
      " 12  Attendance      9 non-null      float64\n",
      "dtypes: float64(3), int64(6), object(4)\n",
      "memory usage: 1008.0+ bytes\n"
     ]
    }
   ],
   "source": [
    "df.info()"
   ]
  },
  {
   "cell_type": "code",
   "execution_count": 17,
   "id": "da25666f",
   "metadata": {},
   "outputs": [
    {
     "data": {
      "text/html": [
       "<div>\n",
       "<style scoped>\n",
       "    .dataframe tbody tr th:only-of-type {\n",
       "        vertical-align: middle;\n",
       "    }\n",
       "\n",
       "    .dataframe tbody tr th {\n",
       "        vertical-align: top;\n",
       "    }\n",
       "\n",
       "    .dataframe thead th {\n",
       "        text-align: right;\n",
       "    }\n",
       "</style>\n",
       "<table border=\"1\" class=\"dataframe\">\n",
       "  <thead>\n",
       "    <tr style=\"text-align: right;\">\n",
       "      <th></th>\n",
       "      <th>Unnamed: 0</th>\n",
       "      <th>Roll Number</th>\n",
       "      <th>No of subjects</th>\n",
       "      <th>CC</th>\n",
       "      <th>WT</th>\n",
       "      <th>AI</th>\n",
       "      <th>DSBDA</th>\n",
       "      <th>CGPA</th>\n",
       "      <th>Attendance</th>\n",
       "    </tr>\n",
       "  </thead>\n",
       "  <tbody>\n",
       "    <tr>\n",
       "      <th>count</th>\n",
       "      <td>9.000000</td>\n",
       "      <td>9.000000</td>\n",
       "      <td>9.0</td>\n",
       "      <td>9.000000</td>\n",
       "      <td>9.000000</td>\n",
       "      <td>9.000000</td>\n",
       "      <td>9.000000</td>\n",
       "      <td>9.000000</td>\n",
       "      <td>9.000</td>\n",
       "    </tr>\n",
       "    <tr>\n",
       "      <th>mean</th>\n",
       "      <td>4.555556</td>\n",
       "      <td>31455.555556</td>\n",
       "      <td>4.0</td>\n",
       "      <td>74.666667</td>\n",
       "      <td>53.666667</td>\n",
       "      <td>67.000000</td>\n",
       "      <td>65.444444</td>\n",
       "      <td>65.194444</td>\n",
       "      <td>76.375</td>\n",
       "    </tr>\n",
       "    <tr>\n",
       "      <th>std</th>\n",
       "      <td>3.205897</td>\n",
       "      <td>50.351542</td>\n",
       "      <td>0.0</td>\n",
       "      <td>19.248377</td>\n",
       "      <td>13.351030</td>\n",
       "      <td>16.710775</td>\n",
       "      <td>17.522208</td>\n",
       "      <td>6.159061</td>\n",
       "      <td>0.000</td>\n",
       "    </tr>\n",
       "    <tr>\n",
       "      <th>min</th>\n",
       "      <td>0.000000</td>\n",
       "      <td>31401.000000</td>\n",
       "      <td>4.0</td>\n",
       "      <td>48.000000</td>\n",
       "      <td>41.000000</td>\n",
       "      <td>50.000000</td>\n",
       "      <td>44.000000</td>\n",
       "      <td>53.000000</td>\n",
       "      <td>76.375</td>\n",
       "    </tr>\n",
       "    <tr>\n",
       "      <th>25%</th>\n",
       "      <td>2.000000</td>\n",
       "      <td>31403.000000</td>\n",
       "      <td>4.0</td>\n",
       "      <td>61.000000</td>\n",
       "      <td>45.000000</td>\n",
       "      <td>56.000000</td>\n",
       "      <td>51.000000</td>\n",
       "      <td>62.500000</td>\n",
       "      <td>76.375</td>\n",
       "    </tr>\n",
       "    <tr>\n",
       "      <th>50%</th>\n",
       "      <td>5.000000</td>\n",
       "      <td>31496.000000</td>\n",
       "      <td>4.0</td>\n",
       "      <td>76.000000</td>\n",
       "      <td>48.000000</td>\n",
       "      <td>60.000000</td>\n",
       "      <td>64.000000</td>\n",
       "      <td>64.500000</td>\n",
       "      <td>76.375</td>\n",
       "    </tr>\n",
       "    <tr>\n",
       "      <th>75%</th>\n",
       "      <td>7.000000</td>\n",
       "      <td>31498.000000</td>\n",
       "      <td>4.0</td>\n",
       "      <td>92.000000</td>\n",
       "      <td>60.000000</td>\n",
       "      <td>72.000000</td>\n",
       "      <td>74.000000</td>\n",
       "      <td>68.250000</td>\n",
       "      <td>76.375</td>\n",
       "    </tr>\n",
       "    <tr>\n",
       "      <th>max</th>\n",
       "      <td>9.000000</td>\n",
       "      <td>31500.000000</td>\n",
       "      <td>4.0</td>\n",
       "      <td>100.000000</td>\n",
       "      <td>80.000000</td>\n",
       "      <td>97.000000</td>\n",
       "      <td>99.000000</td>\n",
       "      <td>72.750000</td>\n",
       "      <td>76.375</td>\n",
       "    </tr>\n",
       "  </tbody>\n",
       "</table>\n",
       "</div>"
      ],
      "text/plain": [
       "       Unnamed: 0   Roll Number  No of subjects          CC         WT   \n",
       "count    9.000000      9.000000             9.0    9.000000   9.000000  \\\n",
       "mean     4.555556  31455.555556             4.0   74.666667  53.666667   \n",
       "std      3.205897     50.351542             0.0   19.248377  13.351030   \n",
       "min      0.000000  31401.000000             4.0   48.000000  41.000000   \n",
       "25%      2.000000  31403.000000             4.0   61.000000  45.000000   \n",
       "50%      5.000000  31496.000000             4.0   76.000000  48.000000   \n",
       "75%      7.000000  31498.000000             4.0   92.000000  60.000000   \n",
       "max      9.000000  31500.000000             4.0  100.000000  80.000000   \n",
       "\n",
       "              AI      DSBDA       CGPA  Attendance  \n",
       "count   9.000000   9.000000   9.000000       9.000  \n",
       "mean   67.000000  65.444444  65.194444      76.375  \n",
       "std    16.710775  17.522208   6.159061       0.000  \n",
       "min    50.000000  44.000000  53.000000      76.375  \n",
       "25%    56.000000  51.000000  62.500000      76.375  \n",
       "50%    60.000000  64.000000  64.500000      76.375  \n",
       "75%    72.000000  74.000000  68.250000      76.375  \n",
       "max    97.000000  99.000000  72.750000      76.375  "
      ]
     },
     "execution_count": 17,
     "metadata": {},
     "output_type": "execute_result"
    }
   ],
   "source": [
    "df.describe()"
   ]
  },
  {
   "cell_type": "code",
   "execution_count": 18,
   "id": "f9b1d32a",
   "metadata": {},
   "outputs": [
    {
     "data": {
      "text/plain": [
       "53.0"
      ]
     },
     "execution_count": 18,
     "metadata": {},
     "output_type": "execute_result"
    }
   ],
   "source": [
    "df['CGPA'].min()"
   ]
  },
  {
   "cell_type": "code",
   "execution_count": 19,
   "id": "43f30426",
   "metadata": {},
   "outputs": [
    {
     "data": {
      "text/plain": [
       "72.75"
      ]
     },
     "execution_count": 19,
     "metadata": {},
     "output_type": "execute_result"
    }
   ],
   "source": [
    "df['CGPA'].max()"
   ]
  },
  {
   "cell_type": "code",
   "execution_count": 20,
   "id": "a71ef3d8",
   "metadata": {},
   "outputs": [
    {
     "data": {
      "text/plain": [
       "<Axes: >"
      ]
     },
     "execution_count": 20,
     "metadata": {},
     "output_type": "execute_result"
    },
    {
     "data": {
      "image/png": "[encoded data removed]",
      "text/plain": [
       "<Figure size 640x480 with 1 Axes>"
      ]
     },
     "metadata": {},
     "output_type": "display_data"
    }
   ],
   "source": [
    "df['CGPA'].plot(kind='box')"
   ]
  },
  {
   "cell_type": "code",
   "execution_count": 21,
   "id": "c38ae354",
   "metadata": {},
   "outputs": [
    {
     "data": {
      "text/plain": [
       "<Axes: ylabel='Frequency'>"
      ]
     },
     "execution_count": 21,
     "metadata": {},
     "output_type": "execute_result"
    },
    {
     "data": {
      "image/png": "[encoded data removed]",
      "text/plain": [
       "<Figure size 640x480 with 1 Axes>"
      ]
     },
     "metadata": {},
     "output_type": "display_data"
    }
   ],
   "source": [
    "df['CGPA'].plot(kind = 'hist')"
   ]
  },
  {
   "cell_type": "code",
   "execution_count": 23,
   "id": "93b500c4",
   "metadata": {},
   "outputs": [],
   "source": [
    "from sklearn.preprocessing import MinMaxScaler"
   ]
  },
  {
   "cell_type": "code",
   "execution_count": 28,
   "id": "1086cd1b",
   "metadata": {},
   "outputs": [],
   "source": [
    "scaler = MinMaxScaler(feature_range = (0,10))\n",
    "data_2d = df['CGPA'].values.reshape(-1, 1)"
   ]
  },
  {
   "cell_type": "code",
   "execution_count": 30,
   "id": "14966992",
   "metadata": {
    "scrolled": true
   },
   "outputs": [],
   "source": [
    "df['CGPA'] = scaler.fit_transform(data_2d)"
   ]
  },
  {
   "cell_type": "code",
   "execution_count": 32,
   "id": "338eee5d",
   "metadata": {},
   "outputs": [
    {
     "data": {
      "text/html": [
       "<div>\n",
       "<style scoped>\n",
       "    .dataframe tbody tr th:only-of-type {\n",
       "        vertical-align: middle;\n",
       "    }\n",
       "\n",
       "    .dataframe tbody tr th {\n",
       "        vertical-align: top;\n",
       "    }\n",
       "\n",
       "    .dataframe thead th {\n",
       "        text-align: right;\n",
       "    }\n",
       "</style>\n",
       "<table border=\"1\" class=\"dataframe\">\n",
       "  <thead>\n",
       "    <tr style=\"text-align: right;\">\n",
       "      <th></th>\n",
       "      <th>Unnamed: 0</th>\n",
       "      <th>Roll Number</th>\n",
       "      <th>First Name</th>\n",
       "      <th>Middle Initial</th>\n",
       "      <th>Last Name</th>\n",
       "      <th>Gender</th>\n",
       "      <th>No of subjects</th>\n",
       "      <th>CC</th>\n",
       "      <th>WT</th>\n",
       "      <th>AI</th>\n",
       "      <th>DSBDA</th>\n",
       "      <th>CGPA</th>\n",
       "      <th>Attendance</th>\n",
       "    </tr>\n",
       "  </thead>\n",
       "  <tbody>\n",
       "    <tr>\n",
       "      <th>0</th>\n",
       "      <td>0</td>\n",
       "      <td>31401.0</td>\n",
       "      <td>Lois</td>\n",
       "      <td>H</td>\n",
       "      <td>Walker</td>\n",
       "      <td>F</td>\n",
       "      <td>4</td>\n",
       "      <td>76</td>\n",
       "      <td>54</td>\n",
       "      <td>56</td>\n",
       "      <td>64</td>\n",
       "      <td>4.810127</td>\n",
       "      <td>76.375</td>\n",
       "    </tr>\n",
       "    <tr>\n",
       "      <th>1</th>\n",
       "      <td>1</td>\n",
       "      <td>31402.0</td>\n",
       "      <td>Brenda</td>\n",
       "      <td>S</td>\n",
       "      <td>Robinson</td>\n",
       "      <td>F</td>\n",
       "      <td>4</td>\n",
       "      <td>64</td>\n",
       "      <td>41</td>\n",
       "      <td>97</td>\n",
       "      <td>51</td>\n",
       "      <td>5.189873</td>\n",
       "      <td>76.375</td>\n",
       "    </tr>\n",
       "    <tr>\n",
       "      <th>2</th>\n",
       "      <td>2</td>\n",
       "      <td>31403.0</td>\n",
       "      <td>Joe</td>\n",
       "      <td>W</td>\n",
       "      <td>Robinson</td>\n",
       "      <td>M</td>\n",
       "      <td>4</td>\n",
       "      <td>81</td>\n",
       "      <td>46</td>\n",
       "      <td>56</td>\n",
       "      <td>64</td>\n",
       "      <td>4.430380</td>\n",
       "      <td>76.375</td>\n",
       "    </tr>\n",
       "    <tr>\n",
       "      <th>3</th>\n",
       "      <td>3</td>\n",
       "      <td>31404.0</td>\n",
       "      <td>Diane</td>\n",
       "      <td>I</td>\n",
       "      <td>Evans</td>\n",
       "      <td>F</td>\n",
       "      <td>4</td>\n",
       "      <td>48</td>\n",
       "      <td>60</td>\n",
       "      <td>60</td>\n",
       "      <td>44</td>\n",
       "      <td>0.000000</td>\n",
       "      <td>76.375</td>\n",
       "    </tr>\n",
       "    <tr>\n",
       "      <th>5</th>\n",
       "      <td>5</td>\n",
       "      <td>31496.0</td>\n",
       "      <td>Jose</td>\n",
       "      <td>K</td>\n",
       "      <td>Hill</td>\n",
       "      <td>M</td>\n",
       "      <td>4</td>\n",
       "      <td>61</td>\n",
       "      <td>48</td>\n",
       "      <td>50</td>\n",
       "      <td>99</td>\n",
       "      <td>5.822785</td>\n",
       "      <td>76.375</td>\n",
       "    </tr>\n",
       "    <tr>\n",
       "      <th>6</th>\n",
       "      <td>6</td>\n",
       "      <td>31497.0</td>\n",
       "      <td>Harold</td>\n",
       "      <td>Z</td>\n",
       "      <td>Nelson</td>\n",
       "      <td>M</td>\n",
       "      <td>4</td>\n",
       "      <td>97</td>\n",
       "      <td>41</td>\n",
       "      <td>90</td>\n",
       "      <td>63</td>\n",
       "      <td>10.000000</td>\n",
       "      <td>76.375</td>\n",
       "    </tr>\n",
       "    <tr>\n",
       "      <th>7</th>\n",
       "      <td>7</td>\n",
       "      <td>31498.0</td>\n",
       "      <td>Nicole</td>\n",
       "      <td>O</td>\n",
       "      <td>Ward</td>\n",
       "      <td>F</td>\n",
       "      <td>4</td>\n",
       "      <td>92</td>\n",
       "      <td>80</td>\n",
       "      <td>53</td>\n",
       "      <td>48</td>\n",
       "      <td>7.721519</td>\n",
       "      <td>76.375</td>\n",
       "    </tr>\n",
       "    <tr>\n",
       "      <th>8</th>\n",
       "      <td>8</td>\n",
       "      <td>31499.0</td>\n",
       "      <td>Theresa</td>\n",
       "      <td>R</td>\n",
       "      <td>Murphy</td>\n",
       "      <td>F</td>\n",
       "      <td>4</td>\n",
       "      <td>53</td>\n",
       "      <td>68</td>\n",
       "      <td>69</td>\n",
       "      <td>82</td>\n",
       "      <td>7.594937</td>\n",
       "      <td>76.375</td>\n",
       "    </tr>\n",
       "    <tr>\n",
       "      <th>9</th>\n",
       "      <td>9</td>\n",
       "      <td>31500.0</td>\n",
       "      <td>Tammy</td>\n",
       "      <td>B</td>\n",
       "      <td>Young</td>\n",
       "      <td>F</td>\n",
       "      <td>4</td>\n",
       "      <td>100</td>\n",
       "      <td>45</td>\n",
       "      <td>72</td>\n",
       "      <td>74</td>\n",
       "      <td>10.000000</td>\n",
       "      <td>76.375</td>\n",
       "    </tr>\n",
       "  </tbody>\n",
       "</table>\n",
       "</div>"
      ],
      "text/plain": [
       "   Unnamed: 0  Roll Number First Name Middle Initial Last Name Gender   \n",
       "0           0      31401.0       Lois              H    Walker      F  \\\n",
       "1           1      31402.0     Brenda              S  Robinson      F   \n",
       "2           2      31403.0        Joe              W  Robinson      M   \n",
       "3           3      31404.0      Diane              I     Evans      F   \n",
       "5           5      31496.0       Jose              K      Hill      M   \n",
       "6           6      31497.0     Harold              Z    Nelson      M   \n",
       "7           7      31498.0     Nicole              O      Ward      F   \n",
       "8           8      31499.0    Theresa              R    Murphy      F   \n",
       "9           9      31500.0      Tammy              B     Young      F   \n",
       "\n",
       "   No of subjects   CC  WT  AI  DSBDA       CGPA  Attendance  \n",
       "0               4   76  54  56     64   4.810127      76.375  \n",
       "1               4   64  41  97     51   5.189873      76.375  \n",
       "2               4   81  46  56     64   4.430380      76.375  \n",
       "3               4   48  60  60     44   0.000000      76.375  \n",
       "5               4   61  48  50     99   5.822785      76.375  \n",
       "6               4   97  41  90     63  10.000000      76.375  \n",
       "7               4   92  80  53     48   7.721519      76.375  \n",
       "8               4   53  68  69     82   7.594937      76.375  \n",
       "9               4  100  45  72     74  10.000000      76.375  "
      ]
     },
     "execution_count": 32,
     "metadata": {},
     "output_type": "execute_result"
    }
   ],
   "source": [
    "df.head(10)"
   ]
  },
  {
   "cell_type": "code",
   "execution_count": 34,
   "id": "205c545f",
   "metadata": {},
   "outputs": [
    {
     "data": {
      "text/plain": [
       "<Axes: ylabel='Frequency'>"
      ]
     },
     "execution_count": 34,
     "metadata": {},
     "output_type": "execute_result"
    },
    {
     "data": {
      "image/png": "[encoded data removed]",
      "text/plain": [
       "<Figure size 640x480 with 1 Axes>"
      ]
     },
     "metadata": {},
     "output_type": "display_data"
    }
   ],
   "source": [
    "df['CGPA'].plot(kind='hist')"
   ]
  },
  {
   "cell_type": "code",
   "execution_count": null,
   "id": "224950c3",
   "metadata": {},
   "outputs": [],
   "source": []
  }
 ],
 "metadata": {
  "kernelspec": {
   "display_name": "Python 3 (ipykernel)",
   "language": "python",
   "name": "python3"
  },
  "language_info": {
   "codemirror_mode": {
    "name": "ipython",
    "version": 3
   },
   "file_extension": ".py",
   "mimetype": "text/x-python",
   "name": "python",
   "nbconvert_exporter": "python",
   "pygments_lexer": "ipython3",
   "version": "3.11.3"
  }
 },
 "nbformat": 4,
 "nbformat_minor": 5
}
