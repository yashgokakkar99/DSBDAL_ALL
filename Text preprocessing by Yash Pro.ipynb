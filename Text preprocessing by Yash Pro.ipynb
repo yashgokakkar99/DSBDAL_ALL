{
 "cells": [
  {
   "cell_type": "code",
   "execution_count": 1,
   "id": "fc93d731",
   "metadata": {},
   "outputs": [],
   "source": [
    "import os\n",
    "import nltk"
   ]
  },
  {
   "cell_type": "code",
   "execution_count": 4,
   "id": "4ba56537",
   "metadata": {},
   "outputs": [],
   "source": [
    "file = open('D:\\Randomtext.txt')\n",
    "text = file.read()\n",
    "file.close()\n",
    "text = text.lower()"
   ]
  },
  {
   "cell_type": "code",
   "execution_count": 5,
   "id": "ee3b0be8",
   "metadata": {},
   "outputs": [
    {
     "name": "stdout",
     "output_type": "stream",
     "text": [
      "['seaworld', 'is', 'a', 'renowned', 'marine', 'theme', 'park', 'that', 'captivates', 'visitors', 'with', 'its', 'enchanting', 'world', 'of', 'aquatic', 'wonders', '.', 'located', 'in', 'various', 'coastal', 'destinations', 'across', 'the', 'globe', ',', 'seaworld', 'offers', 'an', 'immersive', 'experience', 'where', 'visitors', 'can', 'marvel', 'at', 'the', 'incredible', 'diversity', 'of', 'marine', 'life', '.', 'from', 'majestic', 'dolphins', 'gracefully', 'leaping', 'through', 'the', 'air', 'to', 'the', 'awe-inspiring', 'power', 'of', 'killer', 'whales', ',', 'seaworld', 'showcases', 'a', 'mesmerizing', 'array', 'of', 'marine', 'creatures', '.', 'the', 'park', 'combines', 'education', 'and', 'entertainment', ',', 'providing', 'opportunities', 'for', 'visitors', 'to', 'learn', 'about', 'conservation', 'efforts', 'and', 'the', 'importance', 'of', 'preserving', 'our', 'oceans', '.', 'spectacular', 'live', 'shows', ',', 'interactive', 'exhibits', ',', 'and', 'thrilling', 'rides', 'ensure', 'that', 'guests', 'of', 'all', 'ages', 'have', 'an', 'unforgettable', 'experience', 'at', 'seaworld', ',', 'where', 'the', 'magic', 'of', 'the', 'sea', 'comes', 'to', 'life', 'in', 'a', 'truly', 'spectacular', 'way', '.']\n"
     ]
    }
   ],
   "source": [
    "from nltk.tokenize import word_tokenize\n",
    "tokens = word_tokenize(text)\n",
    "print(tokens)"
   ]
  },
  {
   "cell_type": "code",
   "execution_count": 6,
   "id": "035ed20d",
   "metadata": {},
   "outputs": [
    {
     "name": "stderr",
     "output_type": "stream",
     "text": [
      "[nltk_data] Downloading package averaged_perceptron_tagger to\n",
      "[nltk_data]     C:\\Users\\Yash Gokakkar\\AppData\\Roaming\\nltk_data...\n",
      "[nltk_data]   Package averaged_perceptron_tagger is already up-to-\n",
      "[nltk_data]       date!\n"
     ]
    },
    {
     "data": {
      "text/plain": [
       "True"
      ]
     },
     "execution_count": 6,
     "metadata": {},
     "output_type": "execute_result"
    }
   ],
   "source": [
    "nltk.download('averaged_perceptron_tagger')"
   ]
  },
  {
   "cell_type": "code",
   "execution_count": 9,
   "id": "f3594cf7",
   "metadata": {},
   "outputs": [],
   "source": [
    "from nltk import pos_tag\n",
    "pos_tags = pos_tag(tokens)"
   ]
  },
  {
   "cell_type": "code",
   "execution_count": 10,
   "id": "7f4bf531",
   "metadata": {},
   "outputs": [
    {
     "data": {
      "text/plain": [
       "[('seaworld', 'NN'),\n",
       " ('is', 'VBZ'),\n",
       " ('a', 'DT'),\n",
       " ('renowned', 'JJ'),\n",
       " ('marine', 'NN'),\n",
       " ('theme', 'NN'),\n",
       " ('park', 'NN'),\n",
       " ('that', 'WDT'),\n",
       " ('captivates', 'VBZ'),\n",
       " ('visitors', 'NNS'),\n",
       " ('with', 'IN'),\n",
       " ('its', 'PRP$'),\n",
       " ('enchanting', 'VBG'),\n",
       " ('world', 'NN'),\n",
       " ('of', 'IN'),\n",
       " ('aquatic', 'JJ'),\n",
       " ('wonders', 'NNS'),\n",
       " ('.', '.'),\n",
       " ('located', 'VBN'),\n",
       " ('in', 'IN'),\n",
       " ('various', 'JJ'),\n",
       " ('coastal', 'JJ'),\n",
       " ('destinations', 'NNS'),\n",
       " ('across', 'IN'),\n",
       " ('the', 'DT'),\n",
       " ('globe', 'NN'),\n",
       " (',', ','),\n",
       " ('seaworld', 'NN'),\n",
       " ('offers', 'NNS'),\n",
       " ('an', 'DT'),\n",
       " ('immersive', 'JJ'),\n",
       " ('experience', 'NN'),\n",
       " ('where', 'WRB'),\n",
       " ('visitors', 'NNS'),\n",
       " ('can', 'MD'),\n",
       " ('marvel', 'VB'),\n",
       " ('at', 'IN'),\n",
       " ('the', 'DT'),\n",
       " ('incredible', 'JJ'),\n",
       " ('diversity', 'NN'),\n",
       " ('of', 'IN'),\n",
       " ('marine', 'JJ'),\n",
       " ('life', 'NN'),\n",
       " ('.', '.'),\n",
       " ('from', 'IN'),\n",
       " ('majestic', 'JJ'),\n",
       " ('dolphins', 'NNS'),\n",
       " ('gracefully', 'RB'),\n",
       " ('leaping', 'VBG'),\n",
       " ('through', 'IN'),\n",
       " ('the', 'DT'),\n",
       " ('air', 'NN'),\n",
       " ('to', 'TO'),\n",
       " ('the', 'DT'),\n",
       " ('awe-inspiring', 'JJ'),\n",
       " ('power', 'NN'),\n",
       " ('of', 'IN'),\n",
       " ('killer', 'NN'),\n",
       " ('whales', 'NNS'),\n",
       " (',', ','),\n",
       " ('seaworld', 'NN'),\n",
       " ('showcases', 'VBZ'),\n",
       " ('a', 'DT'),\n",
       " ('mesmerizing', 'JJ'),\n",
       " ('array', 'NN'),\n",
       " ('of', 'IN'),\n",
       " ('marine', 'NN'),\n",
       " ('creatures', 'NNS'),\n",
       " ('.', '.'),\n",
       " ('the', 'DT'),\n",
       " ('park', 'NN'),\n",
       " ('combines', 'NNS'),\n",
       " ('education', 'NN'),\n",
       " ('and', 'CC'),\n",
       " ('entertainment', 'NN'),\n",
       " (',', ','),\n",
       " ('providing', 'VBG'),\n",
       " ('opportunities', 'NNS'),\n",
       " ('for', 'IN'),\n",
       " ('visitors', 'NNS'),\n",
       " ('to', 'TO'),\n",
       " ('learn', 'VB'),\n",
       " ('about', 'IN'),\n",
       " ('conservation', 'NN'),\n",
       " ('efforts', 'NNS'),\n",
       " ('and', 'CC'),\n",
       " ('the', 'DT'),\n",
       " ('importance', 'NN'),\n",
       " ('of', 'IN'),\n",
       " ('preserving', 'VBG'),\n",
       " ('our', 'PRP$'),\n",
       " ('oceans', 'NNS'),\n",
       " ('.', '.'),\n",
       " ('spectacular', 'JJ'),\n",
       " ('live', 'NN'),\n",
       " ('shows', 'NNS'),\n",
       " (',', ','),\n",
       " ('interactive', 'JJ'),\n",
       " ('exhibits', 'NNS'),\n",
       " (',', ','),\n",
       " ('and', 'CC'),\n",
       " ('thrilling', 'VBG'),\n",
       " ('rides', 'NNS'),\n",
       " ('ensure', 'VB'),\n",
       " ('that', 'IN'),\n",
       " ('guests', 'NNS'),\n",
       " ('of', 'IN'),\n",
       " ('all', 'DT'),\n",
       " ('ages', 'NNS'),\n",
       " ('have', 'VBP'),\n",
       " ('an', 'DT'),\n",
       " ('unforgettable', 'JJ'),\n",
       " ('experience', 'NN'),\n",
       " ('at', 'IN'),\n",
       " ('seaworld', 'NN'),\n",
       " (',', ','),\n",
       " ('where', 'WRB'),\n",
       " ('the', 'DT'),\n",
       " ('magic', 'NN'),\n",
       " ('of', 'IN'),\n",
       " ('the', 'DT'),\n",
       " ('sea', 'NN'),\n",
       " ('comes', 'VBZ'),\n",
       " ('to', 'TO'),\n",
       " ('life', 'NN'),\n",
       " ('in', 'IN'),\n",
       " ('a', 'DT'),\n",
       " ('truly', 'RB'),\n",
       " ('spectacular', 'JJ'),\n",
       " ('way', 'NN'),\n",
       " ('.', '.')]"
      ]
     },
     "execution_count": 10,
     "metadata": {},
     "output_type": "execute_result"
    }
   ],
   "source": [
    "pos_tags"
   ]
  },
  {
   "cell_type": "code",
   "execution_count": 12,
   "id": "991e650f",
   "metadata": {},
   "outputs": [
    {
     "name": "stderr",
     "output_type": "stream",
     "text": [
      "[nltk_data] Downloading package stopwords to C:\\Users\\Yash\n",
      "[nltk_data]     Gokakkar\\AppData\\Roaming\\nltk_data...\n",
      "[nltk_data]   Package stopwords is already up-to-date!\n"
     ]
    },
    {
     "data": {
      "text/plain": [
       "True"
      ]
     },
     "execution_count": 12,
     "metadata": {},
     "output_type": "execute_result"
    }
   ],
   "source": [
    "nltk.download('stopwords')"
   ]
  },
  {
   "cell_type": "code",
   "execution_count": 13,
   "id": "a9566380",
   "metadata": {},
   "outputs": [
    {
     "data": {
      "text/plain": [
       "['seaworld',\n",
       " 'renowned',\n",
       " 'marine',\n",
       " 'theme',\n",
       " 'park',\n",
       " 'captivates',\n",
       " 'visitors',\n",
       " 'enchanting',\n",
       " 'world',\n",
       " 'aquatic',\n",
       " 'wonders',\n",
       " '.',\n",
       " 'located',\n",
       " 'various',\n",
       " 'coastal',\n",
       " 'destinations',\n",
       " 'across',\n",
       " 'globe',\n",
       " ',',\n",
       " 'seaworld',\n",
       " 'offers',\n",
       " 'immersive',\n",
       " 'experience',\n",
       " 'visitors',\n",
       " 'marvel',\n",
       " 'incredible',\n",
       " 'diversity',\n",
       " 'marine',\n",
       " 'life',\n",
       " '.',\n",
       " 'majestic',\n",
       " 'dolphins',\n",
       " 'gracefully',\n",
       " 'leaping',\n",
       " 'air',\n",
       " 'awe-inspiring',\n",
       " 'power',\n",
       " 'killer',\n",
       " 'whales',\n",
       " ',',\n",
       " 'seaworld',\n",
       " 'showcases',\n",
       " 'mesmerizing',\n",
       " 'array',\n",
       " 'marine',\n",
       " 'creatures',\n",
       " '.',\n",
       " 'park',\n",
       " 'combines',\n",
       " 'education',\n",
       " 'entertainment',\n",
       " ',',\n",
       " 'providing',\n",
       " 'opportunities',\n",
       " 'visitors',\n",
       " 'learn',\n",
       " 'conservation',\n",
       " 'efforts',\n",
       " 'importance',\n",
       " 'preserving',\n",
       " 'oceans',\n",
       " '.',\n",
       " 'spectacular',\n",
       " 'live',\n",
       " 'shows',\n",
       " ',',\n",
       " 'interactive',\n",
       " 'exhibits',\n",
       " ',',\n",
       " 'thrilling',\n",
       " 'rides',\n",
       " 'ensure',\n",
       " 'guests',\n",
       " 'ages',\n",
       " 'unforgettable',\n",
       " 'experience',\n",
       " 'seaworld',\n",
       " ',',\n",
       " 'magic',\n",
       " 'sea',\n",
       " 'comes',\n",
       " 'life',\n",
       " 'truly',\n",
       " 'spectacular',\n",
       " 'way',\n",
       " '.']"
      ]
     },
     "execution_count": 13,
     "metadata": {},
     "output_type": "execute_result"
    }
   ],
   "source": [
    "from nltk.corpus import stopwords\n",
    "stop_words = set(stopwords.words('english'))\n",
    "filtered_tokens = [word for word in tokens if word.lower() not in stop_words]\n",
    "filtered_tokens"
   ]
  },
  {
   "cell_type": "code",
   "execution_count": 15,
   "id": "16d63cfe",
   "metadata": {},
   "outputs": [
    {
     "name": "stderr",
     "output_type": "stream",
     "text": [
      "[nltk_data] Downloading package wordnet to C:\\Users\\Yash\n",
      "[nltk_data]     Gokakkar\\AppData\\Roaming\\nltk_data...\n",
      "[nltk_data]   Package wordnet is already up-to-date!\n"
     ]
    }
   ],
   "source": [
    "nltk.download('wordnet')\n",
    "from nltk.stem import PorterStemmer\n",
    "stemmer = PorterStemmer()\n",
    "stemmer_tokens = [stemmer.stem(word) for word in tokens]"
   ]
  },
  {
   "cell_type": "code",
   "execution_count": 16,
   "id": "bf82eed2",
   "metadata": {},
   "outputs": [
    {
     "data": {
      "text/plain": [
       "['seaworld',\n",
       " 'is',\n",
       " 'a',\n",
       " 'renown',\n",
       " 'marin',\n",
       " 'theme',\n",
       " 'park',\n",
       " 'that',\n",
       " 'captiv',\n",
       " 'visitor',\n",
       " 'with',\n",
       " 'it',\n",
       " 'enchant',\n",
       " 'world',\n",
       " 'of',\n",
       " 'aquat',\n",
       " 'wonder',\n",
       " '.',\n",
       " 'locat',\n",
       " 'in',\n",
       " 'variou',\n",
       " 'coastal',\n",
       " 'destin',\n",
       " 'across',\n",
       " 'the',\n",
       " 'globe',\n",
       " ',',\n",
       " 'seaworld',\n",
       " 'offer',\n",
       " 'an',\n",
       " 'immers',\n",
       " 'experi',\n",
       " 'where',\n",
       " 'visitor',\n",
       " 'can',\n",
       " 'marvel',\n",
       " 'at',\n",
       " 'the',\n",
       " 'incred',\n",
       " 'divers',\n",
       " 'of',\n",
       " 'marin',\n",
       " 'life',\n",
       " '.',\n",
       " 'from',\n",
       " 'majest',\n",
       " 'dolphin',\n",
       " 'grace',\n",
       " 'leap',\n",
       " 'through',\n",
       " 'the',\n",
       " 'air',\n",
       " 'to',\n",
       " 'the',\n",
       " 'awe-inspir',\n",
       " 'power',\n",
       " 'of',\n",
       " 'killer',\n",
       " 'whale',\n",
       " ',',\n",
       " 'seaworld',\n",
       " 'showcas',\n",
       " 'a',\n",
       " 'mesmer',\n",
       " 'array',\n",
       " 'of',\n",
       " 'marin',\n",
       " 'creatur',\n",
       " '.',\n",
       " 'the',\n",
       " 'park',\n",
       " 'combin',\n",
       " 'educ',\n",
       " 'and',\n",
       " 'entertain',\n",
       " ',',\n",
       " 'provid',\n",
       " 'opportun',\n",
       " 'for',\n",
       " 'visitor',\n",
       " 'to',\n",
       " 'learn',\n",
       " 'about',\n",
       " 'conserv',\n",
       " 'effort',\n",
       " 'and',\n",
       " 'the',\n",
       " 'import',\n",
       " 'of',\n",
       " 'preserv',\n",
       " 'our',\n",
       " 'ocean',\n",
       " '.',\n",
       " 'spectacular',\n",
       " 'live',\n",
       " 'show',\n",
       " ',',\n",
       " 'interact',\n",
       " 'exhibit',\n",
       " ',',\n",
       " 'and',\n",
       " 'thrill',\n",
       " 'ride',\n",
       " 'ensur',\n",
       " 'that',\n",
       " 'guest',\n",
       " 'of',\n",
       " 'all',\n",
       " 'age',\n",
       " 'have',\n",
       " 'an',\n",
       " 'unforgett',\n",
       " 'experi',\n",
       " 'at',\n",
       " 'seaworld',\n",
       " ',',\n",
       " 'where',\n",
       " 'the',\n",
       " 'magic',\n",
       " 'of',\n",
       " 'the',\n",
       " 'sea',\n",
       " 'come',\n",
       " 'to',\n",
       " 'life',\n",
       " 'in',\n",
       " 'a',\n",
       " 'truli',\n",
       " 'spectacular',\n",
       " 'way',\n",
       " '.']"
      ]
     },
     "execution_count": 16,
     "metadata": {},
     "output_type": "execute_result"
    }
   ],
   "source": [
    "stemmer_tokens"
   ]
  },
  {
   "cell_type": "code",
   "execution_count": 17,
   "id": "c55f5e0c",
   "metadata": {},
   "outputs": [],
   "source": [
    "from nltk.stem import WordNetLemmatizer\n",
    "lemmatizer = WordNetLemmatizer()\n",
    "lemmatized_tokens = [lemmatizer.lemmatize(word) for word in tokens]"
   ]
  },
  {
   "cell_type": "code",
   "execution_count": 19,
   "id": "d0d9947d",
   "metadata": {},
   "outputs": [
    {
     "data": {
      "text/plain": [
       "['seaworld',\n",
       " 'is',\n",
       " 'a',\n",
       " 'renowned',\n",
       " 'marine',\n",
       " 'theme',\n",
       " 'park',\n",
       " 'that',\n",
       " 'captivates',\n",
       " 'visitor',\n",
       " 'with',\n",
       " 'it',\n",
       " 'enchanting',\n",
       " 'world',\n",
       " 'of',\n",
       " 'aquatic',\n",
       " 'wonder',\n",
       " '.',\n",
       " 'located',\n",
       " 'in',\n",
       " 'various',\n",
       " 'coastal',\n",
       " 'destination',\n",
       " 'across',\n",
       " 'the',\n",
       " 'globe',\n",
       " ',',\n",
       " 'seaworld',\n",
       " 'offer',\n",
       " 'an',\n",
       " 'immersive',\n",
       " 'experience',\n",
       " 'where',\n",
       " 'visitor',\n",
       " 'can',\n",
       " 'marvel',\n",
       " 'at',\n",
       " 'the',\n",
       " 'incredible',\n",
       " 'diversity',\n",
       " 'of',\n",
       " 'marine',\n",
       " 'life',\n",
       " '.',\n",
       " 'from',\n",
       " 'majestic',\n",
       " 'dolphin',\n",
       " 'gracefully',\n",
       " 'leaping',\n",
       " 'through',\n",
       " 'the',\n",
       " 'air',\n",
       " 'to',\n",
       " 'the',\n",
       " 'awe-inspiring',\n",
       " 'power',\n",
       " 'of',\n",
       " 'killer',\n",
       " 'whale',\n",
       " ',',\n",
       " 'seaworld',\n",
       " 'showcase',\n",
       " 'a',\n",
       " 'mesmerizing',\n",
       " 'array',\n",
       " 'of',\n",
       " 'marine',\n",
       " 'creature',\n",
       " '.',\n",
       " 'the',\n",
       " 'park',\n",
       " 'combine',\n",
       " 'education',\n",
       " 'and',\n",
       " 'entertainment',\n",
       " ',',\n",
       " 'providing',\n",
       " 'opportunity',\n",
       " 'for',\n",
       " 'visitor',\n",
       " 'to',\n",
       " 'learn',\n",
       " 'about',\n",
       " 'conservation',\n",
       " 'effort',\n",
       " 'and',\n",
       " 'the',\n",
       " 'importance',\n",
       " 'of',\n",
       " 'preserving',\n",
       " 'our',\n",
       " 'ocean',\n",
       " '.',\n",
       " 'spectacular',\n",
       " 'live',\n",
       " 'show',\n",
       " ',',\n",
       " 'interactive',\n",
       " 'exhibit',\n",
       " ',',\n",
       " 'and',\n",
       " 'thrilling',\n",
       " 'ride',\n",
       " 'ensure',\n",
       " 'that',\n",
       " 'guest',\n",
       " 'of',\n",
       " 'all',\n",
       " 'age',\n",
       " 'have',\n",
       " 'an',\n",
       " 'unforgettable',\n",
       " 'experience',\n",
       " 'at',\n",
       " 'seaworld',\n",
       " ',',\n",
       " 'where',\n",
       " 'the',\n",
       " 'magic',\n",
       " 'of',\n",
       " 'the',\n",
       " 'sea',\n",
       " 'come',\n",
       " 'to',\n",
       " 'life',\n",
       " 'in',\n",
       " 'a',\n",
       " 'truly',\n",
       " 'spectacular',\n",
       " 'way',\n",
       " '.']"
      ]
     },
     "execution_count": 19,
     "metadata": {},
     "output_type": "execute_result"
    }
   ],
   "source": [
    "lemmatized_tokens"
   ]
  },
  {
   "cell_type": "code",
   "execution_count": 34,
   "id": "5fd6b1f7",
   "metadata": {},
   "outputs": [
    {
     "data": {
      "text/html": [
       "<style>#sk-container-id-4 {color: black;background-color: white;}#sk-container-id-4 pre{padding: 0;}#sk-container-id-4 div.sk-toggleable {background-color: white;}#sk-container-id-4 label.sk-toggleable__label {cursor: pointer;display: block;width: 100%;margin-bottom: 0;padding: 0.3em;box-sizing: border-box;text-align: center;}#sk-container-id-4 label.sk-toggleable__label-arrow:before {content: \"▸\";float: left;margin-right: 0.25em;color: #696969;}#sk-container-id-4 label.sk-toggleable__label-arrow:hover:before {color: black;}#sk-container-id-4 div.sk-estimator:hover label.sk-toggleable__label-arrow:before {color: black;}#sk-container-id-4 div.sk-toggleable__content {max-height: 0;max-width: 0;overflow: hidden;text-align: left;background-color: #f0f8ff;}#sk-container-id-4 div.sk-toggleable__content pre {margin: 0.2em;color: black;border-radius: 0.25em;background-color: #f0f8ff;}#sk-container-id-4 input.sk-toggleable__control:checked~div.sk-toggleable__content {max-height: 200px;max-width: 100%;overflow: auto;}#sk-container-id-4 input.sk-toggleable__control:checked~label.sk-toggleable__label-arrow:before {content: \"▾\";}#sk-container-id-4 div.sk-estimator input.sk-toggleable__control:checked~label.sk-toggleable__label {background-color: #d4ebff;}#sk-container-id-4 div.sk-label input.sk-toggleable__control:checked~label.sk-toggleable__label {background-color: #d4ebff;}#sk-container-id-4 input.sk-hidden--visually {border: 0;clip: rect(1px 1px 1px 1px);clip: rect(1px, 1px, 1px, 1px);height: 1px;margin: -1px;overflow: hidden;padding: 0;position: absolute;width: 1px;}#sk-container-id-4 div.sk-estimator {font-family: monospace;background-color: #f0f8ff;border: 1px dotted black;border-radius: 0.25em;box-sizing: border-box;margin-bottom: 0.5em;}#sk-container-id-4 div.sk-estimator:hover {background-color: #d4ebff;}#sk-container-id-4 div.sk-parallel-item::after {content: \"\";width: 100%;border-bottom: 1px solid gray;flex-grow: 1;}#sk-container-id-4 div.sk-label:hover label.sk-toggleable__label {background-color: #d4ebff;}#sk-container-id-4 div.sk-serial::before {content: \"\";position: absolute;border-left: 1px solid gray;box-sizing: border-box;top: 0;bottom: 0;left: 50%;z-index: 0;}#sk-container-id-4 div.sk-serial {display: flex;flex-direction: column;align-items: center;background-color: white;padding-right: 0.2em;padding-left: 0.2em;position: relative;}#sk-container-id-4 div.sk-item {position: relative;z-index: 1;}#sk-container-id-4 div.sk-parallel {display: flex;align-items: stretch;justify-content: center;background-color: white;position: relative;}#sk-container-id-4 div.sk-item::before, #sk-container-id-4 div.sk-parallel-item::before {content: \"\";position: absolute;border-left: 1px solid gray;box-sizing: border-box;top: 0;bottom: 0;left: 50%;z-index: -1;}#sk-container-id-4 div.sk-parallel-item {display: flex;flex-direction: column;z-index: 1;position: relative;background-color: white;}#sk-container-id-4 div.sk-parallel-item:first-child::after {align-self: flex-end;width: 50%;}#sk-container-id-4 div.sk-parallel-item:last-child::after {align-self: flex-start;width: 50%;}#sk-container-id-4 div.sk-parallel-item:only-child::after {width: 0;}#sk-container-id-4 div.sk-dashed-wrapped {border: 1px dashed gray;margin: 0 0.4em 0.5em 0.4em;box-sizing: border-box;padding-bottom: 0.4em;background-color: white;}#sk-container-id-4 div.sk-label label {font-family: monospace;font-weight: bold;display: inline-block;line-height: 1.2em;}#sk-container-id-4 div.sk-label-container {text-align: center;}#sk-container-id-4 div.sk-container {/* jupyter's `normalize.less` sets `[hidden] { display: none; }` but bootstrap.min.css set `[hidden] { display: none !important; }` so we also need the `!important` here to be able to override the default hidden behavior on the sphinx rendered scikit-learn.org. See: https://github.com/scikit-learn/scikit-learn/issues/21755 */display: inline-block !important;position: relative;}#sk-container-id-4 div.sk-text-repr-fallback {display: none;}</style><div id=\"sk-container-id-4\" class=\"sk-top-container\"><div class=\"sk-text-repr-fallback\"><pre>TfidfVectorizer()</pre><b>In a Jupyter environment, please rerun this cell to show the HTML representation or trust the notebook. <br />On GitHub, the HTML representation is unable to render, please try loading this page with nbviewer.org.</b></div><div class=\"sk-container\" hidden><div class=\"sk-item\"><div class=\"sk-estimator sk-toggleable\"><input class=\"sk-toggleable__control sk-hidden--visually\" id=\"sk-estimator-id-4\" type=\"checkbox\" checked><label for=\"sk-estimator-id-4\" class=\"sk-toggleable__label sk-toggleable__label-arrow\">TfidfVectorizer</label><div class=\"sk-toggleable__content\"><pre>TfidfVectorizer()</pre></div></div></div></div></div>"
      ],
      "text/plain": [
       "TfidfVectorizer()"
      ]
     },
     "execution_count": 34,
     "metadata": {},
     "output_type": "execute_result"
    }
   ],
   "source": [
    "import string\n",
    "d0 = 'This is document 1'\n",
    "d1 = 'Document 2'\n",
    "d2 = 'Document 3'\n",
    "\n",
    "string = [d0,d1,d2]\n",
    "\n",
    "\n",
    "\n",
    "\n",
    "from sklearn.feature_extraction.text import TfidfVectorizer\n",
    "vectorizer = TfidfVectorizer()\n",
    "vectorizer.fit(string)"
   ]
  },
  {
   "cell_type": "code",
   "execution_count": 35,
   "id": "28ba3d3f",
   "metadata": {},
   "outputs": [],
   "source": [
    "tfidf_matrix = vectorizer.transform(string)"
   ]
  },
  {
   "cell_type": "code",
   "execution_count": 29,
   "id": "79aea827",
   "metadata": {},
   "outputs": [
    {
     "data": {
      "text/plain": [
       "{'this': 2, 'is': 1, 'document': 0}"
      ]
     },
     "execution_count": 29,
     "metadata": {},
     "output_type": "execute_result"
    }
   ],
   "source": [
    "vectorizer.vocabulary_"
   ]
  },
  {
   "cell_type": "code",
   "execution_count": 36,
   "id": "e8457ba1",
   "metadata": {},
   "outputs": [
    {
     "data": {
      "text/plain": [
       "array([[0.38537163, 0.65249088, 0.65249088],\n",
       "       [1.        , 0.        , 0.        ],\n",
       "       [1.        , 0.        , 0.        ]])"
      ]
     },
     "execution_count": 36,
     "metadata": {},
     "output_type": "execute_result"
    }
   ],
   "source": [
    "tfidf_matrix.toarray()"
   ]
  },
  {
   "cell_type": "code",
   "execution_count": null,
   "id": "485c13ae",
   "metadata": {},
   "outputs": [],
   "source": []
  }
 ],
 "metadata": {
  "kernelspec": {
   "display_name": "Python 3 (ipykernel)",
   "language": "python",
   "name": "python3"
  },
  "language_info": {
   "codemirror_mode": {
    "name": "ipython",
    "version": 3
   },
   "file_extension": ".py",
   "mimetype": "text/x-python",
   "name": "python",
   "nbconvert_exporter": "python",
   "pygments_lexer": "ipython3",
   "version": "3.11.3"
  }
 },
 "nbformat": 4,
 "nbformat_minor": 5
}
